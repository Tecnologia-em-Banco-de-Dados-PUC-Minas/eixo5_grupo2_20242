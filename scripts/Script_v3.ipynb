{
  "nbformat": 4,
  "nbformat_minor": 0,
  "metadata": {
    "colab": {
      "provenance": []
    },
    "kernelspec": {
      "name": "python3",
      "display_name": "Python 3"
    },
    "language_info": {
      "name": "python"
    }
  },
  "cells": [
    {
      "cell_type": "code",
      "source": [
        "#Instalar o Kaggle\n",
        "!pip install kaggle"
      ],
      "metadata": {
        "id": "-Caqp6tlq4jy",
        "colab": {
          "base_uri": "https://localhost:8080/"
        },
        "outputId": "1b0dda36-1933-4cf2-939b-5046ca9734f3"
      },
      "execution_count": 49,
      "outputs": [
        {
          "output_type": "stream",
          "name": "stdout",
          "text": [
            "Requirement already satisfied: kaggle in /usr/local/lib/python3.10/dist-packages (1.6.17)\n",
            "Requirement already satisfied: six>=1.10 in /usr/local/lib/python3.10/dist-packages (from kaggle) (1.16.0)\n",
            "Requirement already satisfied: certifi>=2023.7.22 in /usr/local/lib/python3.10/dist-packages (from kaggle) (2024.8.30)\n",
            "Requirement already satisfied: python-dateutil in /usr/local/lib/python3.10/dist-packages (from kaggle) (2.8.2)\n",
            "Requirement already satisfied: requests in /usr/local/lib/python3.10/dist-packages (from kaggle) (2.32.3)\n",
            "Requirement already satisfied: tqdm in /usr/local/lib/python3.10/dist-packages (from kaggle) (4.66.5)\n",
            "Requirement already satisfied: python-slugify in /usr/local/lib/python3.10/dist-packages (from kaggle) (8.0.4)\n",
            "Requirement already satisfied: urllib3 in /usr/local/lib/python3.10/dist-packages (from kaggle) (2.2.3)\n",
            "Requirement already satisfied: bleach in /usr/local/lib/python3.10/dist-packages (from kaggle) (6.1.0)\n",
            "Requirement already satisfied: webencodings in /usr/local/lib/python3.10/dist-packages (from bleach->kaggle) (0.5.1)\n",
            "Requirement already satisfied: text-unidecode>=1.3 in /usr/local/lib/python3.10/dist-packages (from python-slugify->kaggle) (1.3)\n",
            "Requirement already satisfied: charset-normalizer<4,>=2 in /usr/local/lib/python3.10/dist-packages (from requests->kaggle) (3.3.2)\n",
            "Requirement already satisfied: idna<4,>=2.5 in /usr/local/lib/python3.10/dist-packages (from requests->kaggle) (3.10)\n"
          ]
        }
      ]
    },
    {
      "cell_type": "code",
      "source": [
        "#Importar o Kaggle.json\n",
        "from google.colab import files\n",
        "files.upload()"
      ],
      "metadata": {
        "id": "yK85yjoTrp61",
        "colab": {
          "base_uri": "https://localhost:8080/",
          "height": 90
        },
        "outputId": "73fcd037-4753-4c14-c39e-5605e3f2f59b"
      },
      "execution_count": 50,
      "outputs": [
        {
          "output_type": "display_data",
          "data": {
            "text/plain": [
              "<IPython.core.display.HTML object>"
            ],
            "text/html": [
              "\n",
              "     <input type=\"file\" id=\"files-e91d915d-3802-44d0-8625-79e8cd11305b\" name=\"files[]\" multiple disabled\n",
              "        style=\"border:none\" />\n",
              "     <output id=\"result-e91d915d-3802-44d0-8625-79e8cd11305b\">\n",
              "      Upload widget is only available when the cell has been executed in the\n",
              "      current browser session. Please rerun this cell to enable.\n",
              "      </output>\n",
              "      <script>// Copyright 2017 Google LLC\n",
              "//\n",
              "// Licensed under the Apache License, Version 2.0 (the \"License\");\n",
              "// you may not use this file except in compliance with the License.\n",
              "// You may obtain a copy of the License at\n",
              "//\n",
              "//      http://www.apache.org/licenses/LICENSE-2.0\n",
              "//\n",
              "// Unless required by applicable law or agreed to in writing, software\n",
              "// distributed under the License is distributed on an \"AS IS\" BASIS,\n",
              "// WITHOUT WARRANTIES OR CONDITIONS OF ANY KIND, either express or implied.\n",
              "// See the License for the specific language governing permissions and\n",
              "// limitations under the License.\n",
              "\n",
              "/**\n",
              " * @fileoverview Helpers for google.colab Python module.\n",
              " */\n",
              "(function(scope) {\n",
              "function span(text, styleAttributes = {}) {\n",
              "  const element = document.createElement('span');\n",
              "  element.textContent = text;\n",
              "  for (const key of Object.keys(styleAttributes)) {\n",
              "    element.style[key] = styleAttributes[key];\n",
              "  }\n",
              "  return element;\n",
              "}\n",
              "\n",
              "// Max number of bytes which will be uploaded at a time.\n",
              "const MAX_PAYLOAD_SIZE = 100 * 1024;\n",
              "\n",
              "function _uploadFiles(inputId, outputId) {\n",
              "  const steps = uploadFilesStep(inputId, outputId);\n",
              "  const outputElement = document.getElementById(outputId);\n",
              "  // Cache steps on the outputElement to make it available for the next call\n",
              "  // to uploadFilesContinue from Python.\n",
              "  outputElement.steps = steps;\n",
              "\n",
              "  return _uploadFilesContinue(outputId);\n",
              "}\n",
              "\n",
              "// This is roughly an async generator (not supported in the browser yet),\n",
              "// where there are multiple asynchronous steps and the Python side is going\n",
              "// to poll for completion of each step.\n",
              "// This uses a Promise to block the python side on completion of each step,\n",
              "// then passes the result of the previous step as the input to the next step.\n",
              "function _uploadFilesContinue(outputId) {\n",
              "  const outputElement = document.getElementById(outputId);\n",
              "  const steps = outputElement.steps;\n",
              "\n",
              "  const next = steps.next(outputElement.lastPromiseValue);\n",
              "  return Promise.resolve(next.value.promise).then((value) => {\n",
              "    // Cache the last promise value to make it available to the next\n",
              "    // step of the generator.\n",
              "    outputElement.lastPromiseValue = value;\n",
              "    return next.value.response;\n",
              "  });\n",
              "}\n",
              "\n",
              "/**\n",
              " * Generator function which is called between each async step of the upload\n",
              " * process.\n",
              " * @param {string} inputId Element ID of the input file picker element.\n",
              " * @param {string} outputId Element ID of the output display.\n",
              " * @return {!Iterable<!Object>} Iterable of next steps.\n",
              " */\n",
              "function* uploadFilesStep(inputId, outputId) {\n",
              "  const inputElement = document.getElementById(inputId);\n",
              "  inputElement.disabled = false;\n",
              "\n",
              "  const outputElement = document.getElementById(outputId);\n",
              "  outputElement.innerHTML = '';\n",
              "\n",
              "  const pickedPromise = new Promise((resolve) => {\n",
              "    inputElement.addEventListener('change', (e) => {\n",
              "      resolve(e.target.files);\n",
              "    });\n",
              "  });\n",
              "\n",
              "  const cancel = document.createElement('button');\n",
              "  inputElement.parentElement.appendChild(cancel);\n",
              "  cancel.textContent = 'Cancel upload';\n",
              "  const cancelPromise = new Promise((resolve) => {\n",
              "    cancel.onclick = () => {\n",
              "      resolve(null);\n",
              "    };\n",
              "  });\n",
              "\n",
              "  // Wait for the user to pick the files.\n",
              "  const files = yield {\n",
              "    promise: Promise.race([pickedPromise, cancelPromise]),\n",
              "    response: {\n",
              "      action: 'starting',\n",
              "    }\n",
              "  };\n",
              "\n",
              "  cancel.remove();\n",
              "\n",
              "  // Disable the input element since further picks are not allowed.\n",
              "  inputElement.disabled = true;\n",
              "\n",
              "  if (!files) {\n",
              "    return {\n",
              "      response: {\n",
              "        action: 'complete',\n",
              "      }\n",
              "    };\n",
              "  }\n",
              "\n",
              "  for (const file of files) {\n",
              "    const li = document.createElement('li');\n",
              "    li.append(span(file.name, {fontWeight: 'bold'}));\n",
              "    li.append(span(\n",
              "        `(${file.type || 'n/a'}) - ${file.size} bytes, ` +\n",
              "        `last modified: ${\n",
              "            file.lastModifiedDate ? file.lastModifiedDate.toLocaleDateString() :\n",
              "                                    'n/a'} - `));\n",
              "    const percent = span('0% done');\n",
              "    li.appendChild(percent);\n",
              "\n",
              "    outputElement.appendChild(li);\n",
              "\n",
              "    const fileDataPromise = new Promise((resolve) => {\n",
              "      const reader = new FileReader();\n",
              "      reader.onload = (e) => {\n",
              "        resolve(e.target.result);\n",
              "      };\n",
              "      reader.readAsArrayBuffer(file);\n",
              "    });\n",
              "    // Wait for the data to be ready.\n",
              "    let fileData = yield {\n",
              "      promise: fileDataPromise,\n",
              "      response: {\n",
              "        action: 'continue',\n",
              "      }\n",
              "    };\n",
              "\n",
              "    // Use a chunked sending to avoid message size limits. See b/62115660.\n",
              "    let position = 0;\n",
              "    do {\n",
              "      const length = Math.min(fileData.byteLength - position, MAX_PAYLOAD_SIZE);\n",
              "      const chunk = new Uint8Array(fileData, position, length);\n",
              "      position += length;\n",
              "\n",
              "      const base64 = btoa(String.fromCharCode.apply(null, chunk));\n",
              "      yield {\n",
              "        response: {\n",
              "          action: 'append',\n",
              "          file: file.name,\n",
              "          data: base64,\n",
              "        },\n",
              "      };\n",
              "\n",
              "      let percentDone = fileData.byteLength === 0 ?\n",
              "          100 :\n",
              "          Math.round((position / fileData.byteLength) * 100);\n",
              "      percent.textContent = `${percentDone}% done`;\n",
              "\n",
              "    } while (position < fileData.byteLength);\n",
              "  }\n",
              "\n",
              "  // All done.\n",
              "  yield {\n",
              "    response: {\n",
              "      action: 'complete',\n",
              "    }\n",
              "  };\n",
              "}\n",
              "\n",
              "scope.google = scope.google || {};\n",
              "scope.google.colab = scope.google.colab || {};\n",
              "scope.google.colab._files = {\n",
              "  _uploadFiles,\n",
              "  _uploadFilesContinue,\n",
              "};\n",
              "})(self);\n",
              "</script> "
            ]
          },
          "metadata": {}
        },
        {
          "output_type": "stream",
          "name": "stdout",
          "text": [
            "Saving kaggle.json to kaggle.json\n"
          ]
        },
        {
          "output_type": "execute_result",
          "data": {
            "text/plain": [
              "{'kaggle.json': b'{\"username\":\"grupo1pucminas\",\"key\":\"864cfb0e7b554bed7d830127ae955da3\"}'}"
            ]
          },
          "metadata": {},
          "execution_count": 50
        }
      ]
    },
    {
      "cell_type": "code",
      "source": [
        "#Crias as pastas\n",
        "! mkdir ~/.kaggle\n",
        "! cp kaggle.json ~/.kaggle/\n",
        "! chmod 600 ~/.kaggle/kaggle.json\n",
        "#Baixa os Arquivos do Site\n",
        "! kaggle datasets download -d piterfm/olympic-games-medals-19862018\n",
        "! kaggle datasets download -d heesoo37/120-years-of-olympic-history-athletes-and-results\n",
        "#Retira os arquivos do ZIP\n",
        "!unzip olympic-games-medals-19862018.zip\n",
        "!unzip 120-years-of-olympic-history-athletes-and-results.zip\n",
        "#Cria uma pasta para salvar os arquivos\n",
        "!mkdir -p /content/Entrada\n",
        "#Move os arquivos para pasta\n",
        "!mv /content/*.* /content/Entrada/"
      ],
      "metadata": {
        "id": "8jZFYqZ8tvFY",
        "colab": {
          "base_uri": "https://localhost:8080/"
        },
        "outputId": "7902e542-baf5-4cd3-be92-f03998c12f76"
      },
      "execution_count": 51,
      "outputs": [
        {
          "output_type": "stream",
          "name": "stdout",
          "text": [
            "mkdir: cannot create directory ‘/root/.kaggle’: File exists\n",
            "Dataset URL: https://www.kaggle.com/datasets/piterfm/olympic-games-medals-19862018\n",
            "License(s): CC-BY-NC-SA-4.0\n",
            "Downloading olympic-games-medals-19862018.zip to /content\n",
            " 79% 11.0M/13.9M [00:01<00:00, 16.6MB/s]\n",
            "100% 13.9M/13.9M [00:01<00:00, 11.3MB/s]\n",
            "Dataset URL: https://www.kaggle.com/datasets/heesoo37/120-years-of-olympic-history-athletes-and-results\n",
            "License(s): CC0-1.0\n",
            "Downloading 120-years-of-olympic-history-athletes-and-results.zip to /content\n",
            " 74% 4.00M/5.43M [00:01<00:00, 5.72MB/s]\n",
            "100% 5.43M/5.43M [00:01<00:00, 5.34MB/s]\n",
            "Archive:  olympic-games-medals-19862018.zip\n",
            "  inflating: olympic_athletes.csv    \n",
            "  inflating: olympic_hosts.csv       \n",
            "  inflating: olympic_medals.csv      \n",
            "  inflating: olympic_results.csv     \n",
            "  inflating: olympic_results.pkl     \n",
            "Archive:  120-years-of-olympic-history-athletes-and-results.zip\n",
            "  inflating: athlete_events.csv      \n",
            "  inflating: noc_regions.csv         \n"
          ]
        }
      ]
    },
    {
      "cell_type": "code",
      "execution_count": 52,
      "metadata": {
        "id": "NbtNvpFLG09B"
      },
      "outputs": [],
      "source": [
        "# Bibliotecas\n",
        "import pandas as pd\n",
        "import os"
      ]
    },
    {
      "cell_type": "code",
      "source": [
        "#Carga dos Arquivos\n",
        "\n",
        "#Arquivos URL 1 :  https://www.kaggle.com/datasets/heesoo37/120-years-of-olympic-history-athletes-and-results\n",
        "df_athlete_events = pd.read_csv('/content/Entrada/athlete_events.csv')\n",
        "df_noc_regions    = pd.read_csv('/content/Entrada/noc_regions.csv')\n",
        "\n",
        "#Arquivos URL 2: https://www.kaggle.com/datasets/piterfm/olympic-games-medals-19862018\n",
        "df_olympic_athletes = pd.read_csv('/content/Entrada/olympic_athletes.csv')\n",
        "df_olympic_hosts    = pd.read_csv('/content/Entrada/olympic_hosts.csv')\n",
        "df_olympic_results  = pd.read_csv('/content/Entrada/olympic_results.csv')\n",
        "df_olympic_medals   = pd.read_csv('/content/Entrada/olympic_medals.csv')"
      ],
      "metadata": {
        "id": "XUM3Dc2uIfto"
      },
      "execution_count": 53,
      "outputs": []
    },
    {
      "cell_type": "code",
      "source": [
        "# Quantidade de registros em cada arquivos\n",
        "print(f\"O arquivo athlete_events    possui: {len(df_athlete_events)} \")\n",
        "print(f\"O arquivo noc_regions       possui: {len(df_noc_regions)} \")\n",
        "print(f\"O arquivo olympic_athletes  possui: {len(df_olympic_athletes)} \")\n",
        "print(f\"O arquivo olympic_hosts     possui: {len(df_olympic_hosts)} \")\n",
        "print(f\"O arquivo olympic_results   possui: {len(df_olympic_results)} \")\n",
        "print(f\"O arquivo olympic_medals    possui: {len(df_olympic_medals)} \")"
      ],
      "metadata": {
        "id": "hj-EccKnLcDT",
        "colab": {
          "base_uri": "https://localhost:8080/"
        },
        "outputId": "fcc53824-3d8c-4ef9-e00d-f5d3d757c26a"
      },
      "execution_count": 54,
      "outputs": [
        {
          "output_type": "stream",
          "name": "stdout",
          "text": [
            "O arquivo athlete_events    possui: 271116 \n",
            "O arquivo noc_regions       possui: 230 \n",
            "O arquivo olympic_athletes  possui: 75904 \n",
            "O arquivo olympic_hosts     possui: 53 \n",
            "O arquivo olympic_results   possui: 162804 \n",
            "O arquivo olympic_medals    possui: 21697 \n"
          ]
        }
      ]
    },
    {
      "cell_type": "code",
      "source": [
        "#Renomear Colunas\n",
        "df_athlete_events = df_athlete_events.rename(columns={\n",
        "    #'ID'      : 'ID'\n",
        "    'Name'    : 'Nome',\n",
        "    'Sex'     : 'Sexo',\n",
        "    'Age'     : 'Idade',\n",
        "    'Height'  : 'Altura',\n",
        "    'Weight'  : 'Peso',\n",
        "    'Team'    : 'Equipe',\n",
        "    #'NOC'     : 'NOC'\n",
        "    'Games'   : 'Jogo',\n",
        "    'Year'    : 'Ano',\n",
        "    'Season'  : 'Temporada',\n",
        "    'City'    : 'Cidade',\n",
        "    'Sport'   : 'Esporte',\n",
        "    'Event'   : 'Evento',\n",
        "    'Medal'   : 'Medalha'\n",
        "})\n",
        "\n",
        "df_noc_regions = df_noc_regions.rename(columns={\n",
        "     #'NOC'     : 'NOC'\n",
        "    'region'    : 'Regiao',\n",
        "    'notes'     : 'Notas'\n",
        "})\n",
        "\n",
        "df_olympic_athletes = df_olympic_athletes.rename(columns={\n",
        "    'athlete_url'           : 'Atleta_url',\n",
        "    'athlete_full_name'     : 'Atleta_Nome_Completo',\n",
        "    'games_participations'  : 'Participacao_Jogos',\n",
        "    'first_game'            : 'Primeiro_Jogo',\n",
        "    'athlete_year_birth'    : 'Atleta_Ano_Nascimento',\n",
        "    'athlete_medals'        : 'Atleta_Medalhas',\n",
        "    'bio'                   : 'Bio'\n",
        "})\n",
        "\n",
        "df_olympic_hosts = df_olympic_hosts.rename(columns={\n",
        "    'game_slug'       : 'Jogo_url',\n",
        "    'game_end_date'   : 'Jogo_Data_Fim',\n",
        "    'game_start_date' : 'Jogo_Data_Inicio',\n",
        "    'game_location'   : 'Jogo_Local',\n",
        "    'game_name'       : 'Jogo_Nome',\n",
        "    'game_season'     : 'Jogo_Temporada',\n",
        "    'game_year'       : 'Jogo_Ano'\n",
        "})\n",
        "\n",
        "df_olympic_results = df_olympic_results.rename(columns={\n",
        "    'discipline_title'        : 'Modalidade',\n",
        "    'event_title'             : 'Evento_Nome',\n",
        "    'slug_game'               : 'Jogo_url',\n",
        "    'participant_type'        : 'Participante_Tipo',\n",
        "    'medal_type'              : 'Medalha_Tipo',\n",
        "    'athletes'                : 'Atletas',\n",
        "    'rank_equal'              : 'Classificacao',\n",
        "    'rank_position'           : 'Posicao',\n",
        "    'country_name'            : 'Pais',\n",
        "    'country_code'            : 'Pais_Codigo',\n",
        "    'country_3_letter_code'   : 'Pais_Sigla',\n",
        "    'athlete_url'             : 'Atleta_url',\n",
        "    'athlete_full_name'       : 'Atleta_Nome',\n",
        "    'value_unit'              : 'Valor_Unico',\n",
        "    'value_type'              : 'Valor_Tipo'\n",
        "})\n",
        "\n",
        "df_olympic_medals = df_olympic_medals.rename(columns={\n",
        "    'discipline_title'      : 'Modalidade',\n",
        "    'slug_game'             : 'Jogo_url',\n",
        "    'event_title'           : 'Evento_Nome',\n",
        "    'event_gender'          : 'Evento_Genero',\n",
        "    'medal_type'            : 'Medalha_Tipo',\n",
        "    'participant_type'      : 'Participante_Tipo',\n",
        "    'participant_title'     : 'Participante_Titulo',\n",
        "    'athlete_url'           : 'Atleta_url',\n",
        "    'athlete_full_name'     : 'Atleta_Nome',\n",
        "    'country_name'          : 'Pais',\n",
        "    'country_code'          : 'Pais_Codigo',\n",
        "    'country_3_letter_code' : 'Pais_Sigla',\n",
        "})\n"
      ],
      "metadata": {
        "id": "3exA6ETRSd1h"
      },
      "execution_count": 55,
      "outputs": []
    },
    {
      "cell_type": "code",
      "source": [
        "# Lista Colunas Ajustas\n",
        "print(f\"O Colunas athlete_events: {df_athlete_events.columns.tolist()}\" )\n",
        "print()\n",
        "print(f\"O arquivo noc_regions: {df_noc_regions.columns.tolist()}\")\n",
        "print()\n",
        "print(f\"O arquivo olympic_athletes: {df_olympic_athletes.columns.tolist()}\")\n",
        "print()\n",
        "print(f\"O arquivo olympic_hosts: {df_olympic_hosts.columns.tolist()}\")\n",
        "print()\n",
        "print(f\"O arquivo olympic_results: {df_olympic_results.columns.tolist()}\")\n",
        "print()\n",
        "print(f\"O arquivo olympic_medals: {df_olympic_medals.columns.tolist()}\")"
      ],
      "metadata": {
        "colab": {
          "base_uri": "https://localhost:8080/"
        },
        "id": "6wzdv-noUTmL",
        "outputId": "6a601f7b-8dc4-4e68-cc5d-7df7c6dc28a1"
      },
      "execution_count": 56,
      "outputs": [
        {
          "output_type": "stream",
          "name": "stdout",
          "text": [
            "O Colunas athlete_events: ['ID', 'Nome', 'Sexo', 'Idade', 'Altura', 'Peso', 'Equipe', 'NOC', 'Jogo', 'Ano', 'Temporada', 'Cidade', 'Esporte', 'Evento', 'Medalha']\n",
            "\n",
            "O arquivo noc_regions: ['NOC', 'Regiao', 'Notas']\n",
            "\n",
            "O arquivo olympic_athletes: ['Atleta_url', 'Atleta_Nome_Completo', 'Participacao_Jogos', 'Primeiro_Jogo', 'Atleta_Ano_Nascimento', 'Atleta_Medalhas', 'Bio']\n",
            "\n",
            "O arquivo olympic_hosts: ['Jogo_url', 'Jogo_Data_Fim', 'Jogo_Data_Inicio', 'Jogo_Local', 'Jogo_Nome', 'Jogo_Temporada', 'Jogo_Ano']\n",
            "\n",
            "O arquivo olympic_results: ['Modalidade', 'Evento_Nome', 'Jogo_url', 'Participante_Tipo', 'Medalha_Tipo', 'Atletas', 'Classificacao', 'Posicao', 'Pais', 'Pais_Codigo', 'Pais_Sigla', 'Atleta_url', 'Atleta_Nome', 'Valor_Unico', 'Valor_Tipo']\n",
            "\n",
            "O arquivo olympic_medals: ['Modalidade', 'Jogo_url', 'Evento_Nome', 'Evento_Genero', 'Medalha_Tipo', 'Participante_Tipo', 'Participante_Titulo', 'Atleta_url', 'Atleta_Nome', 'Pais', 'Pais_Codigo', 'Pais_Sigla']\n"
          ]
        }
      ]
    },
    {
      "cell_type": "code",
      "source": [
        "#Ajuste tipo das colunas\n",
        "\n",
        "#Arquivo athlete_events ['ID', 'Nome', 'Sexo', 'Idade', 'Altura', 'Peso', 'Equipe', 'NOC', 'Jogo', 'Ano', 'Temporada', 'Cidade', 'Esporte', 'Evento', 'Medalha']\n",
        "\n",
        "df_athlete_events['ID']         = pd.to_numeric(df_athlete_events['ID'], errors='coerce')\n",
        "df_athlete_events['Nome']       = df_athlete_events['Nome'].apply(lambda x: str(x) if pd.notna(x) else None)\n",
        "df_athlete_events['Sexo']       = df_athlete_events['Sexo'].astype('category')\n",
        "df_athlete_events['Idade']      = pd.to_numeric(df_athlete_events['Idade'], errors='coerce')\n",
        "df_athlete_events['Idade']      = df_athlete_events['Idade'].fillna(-1).astype(int)\n",
        "df_athlete_events['Altura']     = pd.to_numeric(df_athlete_events['Altura'], errors='coerce')\n",
        "df_athlete_events['Peso']       = pd.to_numeric(df_athlete_events['Peso'], errors='coerce')\n",
        "df_athlete_events['Equipe']     = df_athlete_events['Equipe'].apply(lambda x: str(x) if pd.notna(x) else None)\n",
        "df_athlete_events['NOC']        = df_athlete_events['NOC'].apply(lambda x: str(x) if pd.notna(x) else None)\n",
        "df_athlete_events['Jogo']       = df_athlete_events['Jogo'].apply(lambda x: str(x) if pd.notna(x) else None)\n",
        "df_athlete_events['Ano']        = pd.to_numeric(df_athlete_events['Ano'], errors='coerce')\n",
        "df_athlete_events['Temporada']  = df_athlete_events['Temporada'].astype('category')\n",
        "df_athlete_events['Cidade']     = df_athlete_events['Cidade'].apply(lambda x: str(x) if pd.notna(x) else None)\n",
        "df_athlete_events['Esporte']    = df_athlete_events['Esporte'].apply(lambda x: str(x) if pd.notna(x) else None)\n",
        "df_athlete_events['Evento']     = df_athlete_events['Evento'].apply(lambda x: str(x) if pd.notna(x) else None)\n",
        "df_athlete_events['Medalha']    = df_athlete_events['Medalha'].astype('category')\n",
        "\n",
        "#Arquivo df_noc_regions ['NOC', 'Regiao', 'Notas']\n",
        "\n",
        "df_noc_regions['NOC']     = df_noc_regions['NOC'].apply(lambda x: str(x) if pd.notna(x) else None)\n",
        "df_noc_regions['Regiao']  = df_noc_regions['Regiao'].apply(lambda x: str(x) if pd.notna(x) else None)\n",
        "df_noc_regions['Notas']   = df_noc_regions['Notas'].apply(lambda x: str(x) if pd.notna(x) else None)\n",
        "\n",
        "#Arquivo olympic_athletes: ['Atleta_url', 'Atleta_Nome_Completo', 'Participacao_Jogos', 'Primeiro_Jogo', 'Atleta_Ano_Nascimento', 'Atleta_Medalhas', 'Bio']\n",
        "\n",
        "df_olympic_athletes['Atleta_url']             = df_olympic_athletes['Atleta_url'].apply(lambda x: str(x) if pd.notna(x) else None)\n",
        "df_olympic_athletes['Atleta_Nome_Completo']   = df_olympic_athletes['Atleta_Nome_Completo'].apply(lambda x: str(x) if pd.notna(x) else None)\n",
        "df_olympic_athletes['Participacao_Jogos']     = pd.to_numeric(df_olympic_athletes['Participacao_Jogos'], errors='coerce').fillna(0).astype(int)\n",
        "df_olympic_athletes['Primeiro_Jogo']          = df_olympic_athletes['Primeiro_Jogo'].apply(lambda x: str(x) if pd.notna(x) else None)\n",
        "df_olympic_athletes['Atleta_Ano_Nascimento']  = pd.to_numeric(df_olympic_athletes['Atleta_Ano_Nascimento'], errors='coerce').fillna(0).astype(int)\n",
        "df_olympic_athletes['Atleta_Medalhas']        = df_olympic_athletes['Atleta_Medalhas'].apply(lambda x: str(x) if pd.notna(x) else None)\n",
        "df_olympic_athletes['Bio']                    = df_olympic_athletes['Bio'].apply(lambda x: str(x) if pd.notna(x) else None)\n",
        "\n",
        "#Arquivo olympic_hosts: ['Jogo_url', 'Jogo_Data_Fim', 'Jogo_Data_Inicio', 'Jogo_Local', 'Jogo_Nome', 'Jogo_Temporada', 'Jogo_Ano']\n",
        "\n",
        "df_olympic_hosts['Jogo_url']            = df_olympic_hosts['Jogo_url'].apply(lambda x: str(x) if pd.notna(x) else None)\n",
        "df_olympic_hosts['Jogo_Data_Fim']       = pd.to_datetime(df_olympic_hosts['Jogo_Data_Fim'], errors='coerce')\n",
        "df_olympic_hosts['Jogo_Data_Inicio']    = pd.to_datetime(df_olympic_hosts['Jogo_Data_Inicio'], errors='coerce')\n",
        "df_olympic_hosts['Jogo_Local']          = df_olympic_hosts['Jogo_Local'].apply(lambda x: str(x) if pd.notna(x) else None)\n",
        "df_olympic_hosts['Jogo_Nome']           = df_olympic_hosts['Jogo_Nome'].apply(lambda x: str(x) if pd.notna(x) else None)\n",
        "df_olympic_hosts['Jogo_Temporada']      = df_olympic_hosts['Jogo_Temporada'].astype('category')\n",
        "df_olympic_hosts['Jogo_Ano']            = pd.to_numeric(df_olympic_hosts['Jogo_Ano'], errors='coerce').astype(int)\n",
        "\n",
        "#Arquivo olympic_results: ['Modalidade', 'Evento_Nome', 'Jogo_url', 'Participante_Tipo', 'Medalha_Tipo', 'Atletas', 'Classificacao', 'Posicao', 'Cidade', 'Cidade_Codigo', 'Cidade_Sigla', 'Atleta_url', 'Atleta_Nome', 'Valor_Unico', 'Valor_Tipo']\n",
        "\n",
        "df_olympic_results['Modalidade']        = df_olympic_results['Modalidade'].apply(lambda x: str(x) if pd.notna(x) else None)\n",
        "df_olympic_results['Evento_Nome']       = df_olympic_results['Evento_Nome'].apply(lambda x: str(x) if pd.notna(x) else None)\n",
        "df_olympic_results['Jogo_url']          = df_olympic_results['Jogo_url'].apply(lambda x: str(x) if pd.notna(x) else None)\n",
        "df_olympic_results['Participante_Tipo'] = df_olympic_results['Participante_Tipo'].apply(lambda x: str(x) if pd.notna(x) else None)\n",
        "df_olympic_results['Medalha_Tipo']      = df_olympic_results['Medalha_Tipo'].astype('category')\n",
        "df_olympic_results['Atletas']           = df_olympic_results['Atletas'].apply(lambda x: str(x) if pd.notna(x) else None)\n",
        "df_olympic_results['Classificacao']     = pd.to_numeric(df_olympic_results['Classificacao'], errors='coerce').astype(float)\n",
        "df_olympic_results['Posicao']           = pd.to_numeric(df_olympic_results['Posicao'], errors='coerce').fillna(-1).astype(int)\n",
        "df_olympic_results['Pais']              = df_olympic_results['Pais'].apply(lambda x: str(x) if pd.notna(x) else None)\n",
        "df_olympic_results['Pais_Codigo']       = df_olympic_results['Pais_Codigo'].apply(lambda x: str(x) if pd.notna(x) else None)\n",
        "df_olympic_results['Pais_Sigla']        = df_olympic_results['Pais_Sigla'].apply(lambda x: str(x) if pd.notna(x) else None)\n",
        "df_olympic_results['Atleta_url']        = df_olympic_results['Atleta_url'].apply(lambda x: str(x) if pd.notna(x) else None)\n",
        "df_olympic_results['Atleta_Nome']       = df_olympic_results['Atleta_Nome'].apply(lambda x: str(x) if pd.notna(x) else None)\n",
        "df_olympic_results['Valor_Unico']       = pd.to_numeric(df_olympic_results['Valor_Unico'], errors='coerce').astype(float)\n",
        "df_olympic_results['Valor_Tipo']        = df_olympic_results['Valor_Tipo'].apply(lambda x: str(x) if pd.notna(x) else None)\n",
        "\n",
        "#Arquivo olympic_medals: ['Modalidade', 'Jogo_url', 'Evento_Nome', 'Evento_Genero', 'Medalha_Tipo', 'Participante_Tipo', 'Participante_Titulo', 'Atleta_url', 'Atleta_Nome', 'Cidade', 'Cidade_Codigo', 'Cidade_Sigla']\n",
        "\n",
        "df_olympic_medals['Modalidade']           = df_olympic_medals['Modalidade'].apply(lambda x: str(x) if pd.notna(x) else None)\n",
        "df_olympic_medals['Jogo_url']             = df_olympic_medals['Jogo_url'].apply(lambda x: str(x) if pd.notna(x) else None)\n",
        "df_olympic_medals['Evento_Nome']          = df_olympic_medals['Evento_Nome'].apply(lambda x: str(x) if pd.notna(x) else None)\n",
        "df_olympic_medals['Evento_Genero']        = df_olympic_medals['Evento_Genero'].astype('category')\n",
        "df_olympic_medals['Medalha_Tipo']         = df_olympic_medals['Medalha_Tipo'].astype('category')\n",
        "df_olympic_medals['Participante_Tipo']    = df_olympic_medals['Participante_Tipo'].astype('category')\n",
        "df_olympic_medals['Participante_Titulo']  = df_olympic_medals['Participante_Titulo'].apply(lambda x: str(x) if pd.notna(x) else None)\n",
        "df_olympic_medals['Atleta_url']           = df_olympic_medals['Atleta_url'].apply(lambda x: str(x) if pd.notna(x) else None)\n",
        "df_olympic_medals['Atleta_Nome']          = df_olympic_medals['Atleta_Nome'].apply(lambda x: str(x) if pd.notna(x) else None)\n",
        "df_olympic_medals['Pais']                 = df_olympic_medals['Pais'].apply(lambda x: str(x) if pd.notna(x) else None)\n",
        "df_olympic_medals['Pais_Codigo']          = df_olympic_medals['Pais_Codigo'].apply(lambda x: str(x) if pd.notna(x) else None)\n",
        "df_olympic_medals['Pais_Sigla']           = df_olympic_medals['Pais_Sigla'].apply(lambda x: str(x) if pd.notna(x) else None)\n",
        "\n",
        "#Comando para ver os tipos das colunas\n",
        "#df_athlete_events.dtypes\n",
        "#df_noc_regions.dtypes\n",
        "#df_olympic_athletes.dtypes\n",
        "#df_olympic_hosts.dtypes\n",
        "#df_olympic_results.dtypes\n",
        "#df_olympic_medals.dtypes"
      ],
      "metadata": {
        "id": "9amyu_Bqcb90"
      },
      "execution_count": 57,
      "outputs": []
    },
    {
      "cell_type": "code",
      "source": [
        "# Converter NaN para None (nulo) em uma coluna específica\n",
        "\n",
        "df_olympic_results['Modalidade']        = df_olympic_results['Modalidade'].replace({pd.NA: None, pd.NaT: None, float('nan'): None})\n",
        "df_olympic_results['Evento_Nome']       = df_olympic_results['Evento_Nome'].replace({pd.NA: None, pd.NaT: None, float('nan'): None})\n",
        "df_olympic_results['Jogo_url']          = df_olympic_results['Jogo_url'].replace({pd.NA: None, pd.NaT: None, float('nan'): None})\n",
        "df_olympic_results['Participante_Tipo'] = df_olympic_results['Participante_Tipo'].replace({pd.NA: None, pd.NaT: None, float('nan'): None})\n",
        "df_olympic_results['Medalha_Tipo']      = df_olympic_results['Medalha_Tipo'].replace({pd.NA: None, pd.NaT: None, float('nan'): None})\n",
        "df_olympic_results['Atletas']           = df_olympic_results['Atletas'].replace({pd.NA: None, pd.NaT: None, float('nan'): None})\n",
        "df_olympic_results['Classificacao']     = df_olympic_results['Classificacao'].replace({pd.NA: None, pd.NaT: None, float('nan'): None})\n",
        "df_olympic_results['Posicao']           = df_olympic_results['Posicao'].replace({pd.NA: None, pd.NaT: None, float('nan'): None})\n",
        "df_olympic_results['Pais']              = df_olympic_results['Pais'].replace({pd.NA: None, pd.NaT: None, float('nan'): None})\n",
        "df_olympic_results['Pais_Codigo']       = df_olympic_results['Pais_Codigo'].replace({pd.NA: None, pd.NaT: None, float('nan'): None})\n",
        "df_olympic_results['Pais_Sigla']        = df_olympic_results['Pais_Sigla'].replace({pd.NA: None, pd.NaT: None, float('nan'): None})\n",
        "df_olympic_results['Atleta_url']        = df_olympic_results['Atleta_url'].replace({pd.NA: None, pd.NaT: None, float('nan'): None})\n",
        "df_olympic_results['Atleta_Nome']       = df_olympic_results['Atleta_Nome'].replace({pd.NA: None, pd.NaT: None, float('nan'): None})\n",
        "df_olympic_results['Valor_Unico']       = df_olympic_results['Valor_Unico'].replace({pd.NA: None, pd.NaT: None, float('nan'): None})\n",
        "df_olympic_results['Valor_Tipo']        = df_olympic_results['Valor_Tipo'].replace({pd.NA: None, pd.NaT: None, float('nan'): None})\n"
      ],
      "metadata": {
        "id": "aFU-bCYVCxNe"
      },
      "execution_count": 58,
      "outputs": []
    },
    {
      "cell_type": "code",
      "source": [
        "#Verifica se ainda contem valores nulos\n",
        "#df_athlete_events.isnull().sum()\n",
        "#df_noc_regions.isnull().sum()\n",
        "#df_olympic_athletes.isnull().sum()\n",
        "#df_olympic_hosts.isnull().sum()\n",
        "#df_olympic_results.isnull().sum()\n",
        "#df_olympic_medals.isnull().sum()\n",
        "\n",
        "\n",
        "#Filtras valores nulos\n",
        "#df_olympic_results[df_olympic_results['Atletas'].isna()]\n",
        "#df_olympic_medals.head(50)"
      ],
      "metadata": {
        "id": "R_hzmV_tcwvM"
      },
      "execution_count": 59,
      "outputs": []
    },
    {
      "cell_type": "code",
      "source": [
        "#Ajusta dados\n",
        "\n",
        "#Arquivo df_athlete_events\n",
        "df_athlete_events['Altura']     = df_athlete_events['Altura'].fillna(-1)                        #Converte valores nulos em -1\n",
        "df_athlete_events['Peso']       = df_athlete_events['Peso'].fillna(-1)                          #Converte valores nulos em -1\n",
        "df_athlete_events['Medalha']    = df_athlete_events['Medalha'].cat.add_categories('NO MEDAL')   #Adiciona o 'NO MEDAL' as categorias\n",
        "df_athlete_events['Medalha']    = df_athlete_events['Medalha'].fillna('NO MEDAL')               #Converte valores nulos em 'NO MEDAL'\n",
        "\n",
        "#Arquivo df_noc_regions\n",
        "#Nada a fazer\n",
        "\n",
        "#Arquivo df_olympic_athletes\n",
        "df_olympic_athletes['Atleta_Medalhas'] = df_olympic_athletes['Atleta_Medalhas'].fillna('NO MEDAL')  #Converte valores nulos em 'NO MEDAL'\n",
        "\n",
        "#Arquivo df_olympic_hosts\n",
        "#Nada a fazer\n",
        "\n",
        "#Arquivo df_olympic_results\n",
        "\n",
        "df_olympic_results                    = df_olympic_results.dropna(subset=['Atletas', 'Atleta_url', 'Atleta_Nome'], how='all')   # Remover registros onde 'Atletas', 'Atleta_url' ou 'Atleta_Nome' têm valores nulos\n",
        "df_olympic_results                    = df_olympic_results.dropna(subset=['Atleta_url'], how='all')                             # Remover registros onde ''Atleta_url'  tem valores nulos\n",
        "df_olympic_results['Medalha_Tipo']    = df_olympic_results['Medalha_Tipo'].cat.add_categories('NO MEDAL')                       #Adiciona o 'NO MEDAL' as categorias\n",
        "df_olympic_results['Medalha_Tipo']    = df_olympic_results['Medalha_Tipo'].fillna('NO MEDAL')                                   #Converte valores nulos em 'NO MEDAL'\n",
        "\n",
        "#Arquivo df_olympic_medals\n",
        "\n",
        "df_olympic_medals = df_olympic_medals.dropna(subset=['Atleta_url', 'Atleta_Nome'], how='all')   # Remover registros onde 'Atleta_url' ou 'Atleta_Nome' têm valores nulos\n"
      ],
      "metadata": {
        "id": "FL0axAsM8Kbs"
      },
      "execution_count": 60,
      "outputs": []
    },
    {
      "cell_type": "code",
      "source": [
        "#Exclusão de colunas que não usaremos\n",
        "\n",
        "df_olympic_results.drop(columns=['Valor_Unico', 'Valor_Tipo', 'Pais_Codigo', 'Classificacao'], inplace=True)\n",
        "df_olympic_medals.drop(columns=['Pais_Codigo', 'Participante_Titulo'], inplace=True)\n",
        "df_olympic_athletes.drop(columns=['Bio'], inplace=True)"
      ],
      "metadata": {
        "id": "f9Zujcq01tQ-"
      },
      "execution_count": 61,
      "outputs": []
    },
    {
      "cell_type": "code",
      "source": [
        "#Gera os arquivos CSV\n",
        "\n",
        "#Cria a pasta de saida caso não exista\n",
        "if not os.path.exists('/content/Saida'):\n",
        "    os.makedirs('/content/Saida')\n",
        "\n",
        "\n",
        "#Salva os arquivos no caminho /content/Saida/\n",
        "df_athlete_events.to_csv('/content/Saida/df_athlete_events_transformed.csv', index=False)\n",
        "df_olympic_athletes.to_csv('/content/Saida/df_olympic_athletes_transformed.csv', index=False)\n",
        "df_olympic_hosts.to_csv('/content/Saida/df_olympic_hosts_transformed.csv', index=False)\n",
        "df_olympic_results.to_csv('/content/Saida/df_olympic_results_transformed.csv', index=False)\n",
        "df_olympic_medals.to_csv('/content/Saida/df_olympic_medals_transformed.csv', index=False)\n",
        "\n",
        "#PS: Decidimos não usar o arquivo df_noc_regions\n",
        "\n",
        "#Baixa os arquivos no computador\n",
        "files.download('/content/Saida/df_athlete_events_transformed.csv')\n",
        "files.download('/content/Saida/df_olympic_athletes_transformed.csv')\n",
        "files.download('/content/Saida/df_olympic_hosts_transformed.csv')\n",
        "files.download('/content/Saida/df_olympic_results_transformed.csv')\n",
        "files.download('/content/Saida/df_olympic_medals_transformed.csv')\n"
      ],
      "metadata": {
        "id": "VwBD3-wxncKU",
        "colab": {
          "base_uri": "https://localhost:8080/",
          "height": 17
        },
        "outputId": "0d98de21-9070-4c76-81e9-a2c7e572122f"
      },
      "execution_count": 63,
      "outputs": [
        {
          "output_type": "display_data",
          "data": {
            "text/plain": [
              "<IPython.core.display.Javascript object>"
            ],
            "application/javascript": [
              "\n",
              "    async function download(id, filename, size) {\n",
              "      if (!google.colab.kernel.accessAllowed) {\n",
              "        return;\n",
              "      }\n",
              "      const div = document.createElement('div');\n",
              "      const label = document.createElement('label');\n",
              "      label.textContent = `Downloading \"${filename}\": `;\n",
              "      div.appendChild(label);\n",
              "      const progress = document.createElement('progress');\n",
              "      progress.max = size;\n",
              "      div.appendChild(progress);\n",
              "      document.body.appendChild(div);\n",
              "\n",
              "      const buffers = [];\n",
              "      let downloaded = 0;\n",
              "\n",
              "      const channel = await google.colab.kernel.comms.open(id);\n",
              "      // Send a message to notify the kernel that we're ready.\n",
              "      channel.send({})\n",
              "\n",
              "      for await (const message of channel.messages) {\n",
              "        // Send a message to notify the kernel that we're ready.\n",
              "        channel.send({})\n",
              "        if (message.buffers) {\n",
              "          for (const buffer of message.buffers) {\n",
              "            buffers.push(buffer);\n",
              "            downloaded += buffer.byteLength;\n",
              "            progress.value = downloaded;\n",
              "          }\n",
              "        }\n",
              "      }\n",
              "      const blob = new Blob(buffers, {type: 'application/binary'});\n",
              "      const a = document.createElement('a');\n",
              "      a.href = window.URL.createObjectURL(blob);\n",
              "      a.download = filename;\n",
              "      div.appendChild(a);\n",
              "      a.click();\n",
              "      div.remove();\n",
              "    }\n",
              "  "
            ]
          },
          "metadata": {}
        },
        {
          "output_type": "display_data",
          "data": {
            "text/plain": [
              "<IPython.core.display.Javascript object>"
            ],
            "application/javascript": [
              "download(\"download_5537570e-8197-4548-a751-dd433c0bfefa\", \"df_athlete_events_transformed.csv\", 38382214)"
            ]
          },
          "metadata": {}
        },
        {
          "output_type": "display_data",
          "data": {
            "text/plain": [
              "<IPython.core.display.Javascript object>"
            ],
            "application/javascript": [
              "\n",
              "    async function download(id, filename, size) {\n",
              "      if (!google.colab.kernel.accessAllowed) {\n",
              "        return;\n",
              "      }\n",
              "      const div = document.createElement('div');\n",
              "      const label = document.createElement('label');\n",
              "      label.textContent = `Downloading \"${filename}\": `;\n",
              "      div.appendChild(label);\n",
              "      const progress = document.createElement('progress');\n",
              "      progress.max = size;\n",
              "      div.appendChild(progress);\n",
              "      document.body.appendChild(div);\n",
              "\n",
              "      const buffers = [];\n",
              "      let downloaded = 0;\n",
              "\n",
              "      const channel = await google.colab.kernel.comms.open(id);\n",
              "      // Send a message to notify the kernel that we're ready.\n",
              "      channel.send({})\n",
              "\n",
              "      for await (const message of channel.messages) {\n",
              "        // Send a message to notify the kernel that we're ready.\n",
              "        channel.send({})\n",
              "        if (message.buffers) {\n",
              "          for (const buffer of message.buffers) {\n",
              "            buffers.push(buffer);\n",
              "            downloaded += buffer.byteLength;\n",
              "            progress.value = downloaded;\n",
              "          }\n",
              "        }\n",
              "      }\n",
              "      const blob = new Blob(buffers, {type: 'application/binary'});\n",
              "      const a = document.createElement('a');\n",
              "      a.href = window.URL.createObjectURL(blob);\n",
              "      a.download = filename;\n",
              "      div.appendChild(a);\n",
              "      a.click();\n",
              "      div.remove();\n",
              "    }\n",
              "  "
            ]
          },
          "metadata": {}
        },
        {
          "output_type": "display_data",
          "data": {
            "text/plain": [
              "<IPython.core.display.Javascript object>"
            ],
            "application/javascript": [
              "download(\"download_3a1e3998-5c58-4a6c-a2c5-bf4b0737b460\", \"df_olympic_athletes_transformed.csv\", 7238363)"
            ]
          },
          "metadata": {}
        },
        {
          "output_type": "display_data",
          "data": {
            "text/plain": [
              "<IPython.core.display.Javascript object>"
            ],
            "application/javascript": [
              "\n",
              "    async function download(id, filename, size) {\n",
              "      if (!google.colab.kernel.accessAllowed) {\n",
              "        return;\n",
              "      }\n",
              "      const div = document.createElement('div');\n",
              "      const label = document.createElement('label');\n",
              "      label.textContent = `Downloading \"${filename}\": `;\n",
              "      div.appendChild(label);\n",
              "      const progress = document.createElement('progress');\n",
              "      progress.max = size;\n",
              "      div.appendChild(progress);\n",
              "      document.body.appendChild(div);\n",
              "\n",
              "      const buffers = [];\n",
              "      let downloaded = 0;\n",
              "\n",
              "      const channel = await google.colab.kernel.comms.open(id);\n",
              "      // Send a message to notify the kernel that we're ready.\n",
              "      channel.send({})\n",
              "\n",
              "      for await (const message of channel.messages) {\n",
              "        // Send a message to notify the kernel that we're ready.\n",
              "        channel.send({})\n",
              "        if (message.buffers) {\n",
              "          for (const buffer of message.buffers) {\n",
              "            buffers.push(buffer);\n",
              "            downloaded += buffer.byteLength;\n",
              "            progress.value = downloaded;\n",
              "          }\n",
              "        }\n",
              "      }\n",
              "      const blob = new Blob(buffers, {type: 'application/binary'});\n",
              "      const a = document.createElement('a');\n",
              "      a.href = window.URL.createObjectURL(blob);\n",
              "      a.download = filename;\n",
              "      div.appendChild(a);\n",
              "      a.click();\n",
              "      div.remove();\n",
              "    }\n",
              "  "
            ]
          },
          "metadata": {}
        },
        {
          "output_type": "display_data",
          "data": {
            "text/plain": [
              "<IPython.core.display.Javascript object>"
            ],
            "application/javascript": [
              "download(\"download_3bd8729e-e5ba-48f4-a1d4-dcfd54ab3da0\", \"df_olympic_hosts_transformed.csv\", 5508)"
            ]
          },
          "metadata": {}
        },
        {
          "output_type": "display_data",
          "data": {
            "text/plain": [
              "<IPython.core.display.Javascript object>"
            ],
            "application/javascript": [
              "\n",
              "    async function download(id, filename, size) {\n",
              "      if (!google.colab.kernel.accessAllowed) {\n",
              "        return;\n",
              "      }\n",
              "      const div = document.createElement('div');\n",
              "      const label = document.createElement('label');\n",
              "      label.textContent = `Downloading \"${filename}\": `;\n",
              "      div.appendChild(label);\n",
              "      const progress = document.createElement('progress');\n",
              "      progress.max = size;\n",
              "      div.appendChild(progress);\n",
              "      document.body.appendChild(div);\n",
              "\n",
              "      const buffers = [];\n",
              "      let downloaded = 0;\n",
              "\n",
              "      const channel = await google.colab.kernel.comms.open(id);\n",
              "      // Send a message to notify the kernel that we're ready.\n",
              "      channel.send({})\n",
              "\n",
              "      for await (const message of channel.messages) {\n",
              "        // Send a message to notify the kernel that we're ready.\n",
              "        channel.send({})\n",
              "        if (message.buffers) {\n",
              "          for (const buffer of message.buffers) {\n",
              "            buffers.push(buffer);\n",
              "            downloaded += buffer.byteLength;\n",
              "            progress.value = downloaded;\n",
              "          }\n",
              "        }\n",
              "      }\n",
              "      const blob = new Blob(buffers, {type: 'application/binary'});\n",
              "      const a = document.createElement('a');\n",
              "      a.href = window.URL.createObjectURL(blob);\n",
              "      a.download = filename;\n",
              "      div.appendChild(a);\n",
              "      a.click();\n",
              "      div.remove();\n",
              "    }\n",
              "  "
            ]
          },
          "metadata": {}
        },
        {
          "output_type": "display_data",
          "data": {
            "text/plain": [
              "<IPython.core.display.Javascript object>"
            ],
            "application/javascript": [
              "download(\"download_df03cf84-1c15-43d8-8c07-d7798ac2ea4b\", \"df_olympic_results_transformed.csv\", 19143767)"
            ]
          },
          "metadata": {}
        },
        {
          "output_type": "display_data",
          "data": {
            "text/plain": [
              "<IPython.core.display.Javascript object>"
            ],
            "application/javascript": [
              "\n",
              "    async function download(id, filename, size) {\n",
              "      if (!google.colab.kernel.accessAllowed) {\n",
              "        return;\n",
              "      }\n",
              "      const div = document.createElement('div');\n",
              "      const label = document.createElement('label');\n",
              "      label.textContent = `Downloading \"${filename}\": `;\n",
              "      div.appendChild(label);\n",
              "      const progress = document.createElement('progress');\n",
              "      progress.max = size;\n",
              "      div.appendChild(progress);\n",
              "      document.body.appendChild(div);\n",
              "\n",
              "      const buffers = [];\n",
              "      let downloaded = 0;\n",
              "\n",
              "      const channel = await google.colab.kernel.comms.open(id);\n",
              "      // Send a message to notify the kernel that we're ready.\n",
              "      channel.send({})\n",
              "\n",
              "      for await (const message of channel.messages) {\n",
              "        // Send a message to notify the kernel that we're ready.\n",
              "        channel.send({})\n",
              "        if (message.buffers) {\n",
              "          for (const buffer of message.buffers) {\n",
              "            buffers.push(buffer);\n",
              "            downloaded += buffer.byteLength;\n",
              "            progress.value = downloaded;\n",
              "          }\n",
              "        }\n",
              "      }\n",
              "      const blob = new Blob(buffers, {type: 'application/binary'});\n",
              "      const a = document.createElement('a');\n",
              "      a.href = window.URL.createObjectURL(blob);\n",
              "      a.download = filename;\n",
              "      div.appendChild(a);\n",
              "      a.click();\n",
              "      div.remove();\n",
              "    }\n",
              "  "
            ]
          },
          "metadata": {}
        },
        {
          "output_type": "display_data",
          "data": {
            "text/plain": [
              "<IPython.core.display.Javascript object>"
            ],
            "application/javascript": [
              "download(\"download_102de1f9-8d9a-4311-939c-d6f0baa600ba\", \"df_olympic_medals_transformed.csv\", 2625108)"
            ]
          },
          "metadata": {}
        }
      ]
    }
  ]
}
